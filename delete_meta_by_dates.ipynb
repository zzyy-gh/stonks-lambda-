{
  "nbformat": 4,
  "nbformat_minor": 0,
  "metadata": {
    "colab": {
      "name": "delete meta by dates.ipynb",
      "provenance": [],
      "authorship_tag": "ABX9TyOiOx7FTb72rkXPV50HvFBD",
      "include_colab_link": true
    },
    "kernelspec": {
      "name": "python3",
      "display_name": "Python 3"
    },
    "language_info": {
      "name": "python"
    }
  },
  "cells": [
    {
      "cell_type": "markdown",
      "metadata": {
        "id": "view-in-github",
        "colab_type": "text"
      },
      "source": [
        "<a href=\"https://colab.research.google.com/github/zzyy-gh/stonks-lambda-/blob/main/delete_meta_by_dates.ipynb\" target=\"_parent\"><img src=\"https://colab.research.google.com/assets/colab-badge.svg\" alt=\"Open In Colab\"/></a>"
      ]
    },
    {
      "cell_type": "code",
      "metadata": {
        "id": "mdRa6sgHHJKX"
      },
      "source": [
        "def lambda_handler(event, context):\n",
        "    table_name = 'ticker_meta'\n",
        "    results = []\n",
        "    last_evaluated_key = None\n",
        "    \n",
        "    # find uuid\n",
        "    while True:\n",
        "        try:\n",
        "            if last_evaluated_key:\n",
        "                response = client.scan(\n",
        "                    TableName=table_name,\n",
        "                    ExclusiveStartKey=last_evaluated_key,\n",
        "                    ExpressionAttributeNames={\n",
        "                        '#t': 'tkr',\n",
        "                        '#u': 'uuid',\n",
        "                        '#d': 'date',\n",
        "                    },\n",
        "                    ExpressionAttributeValues={\n",
        "                        ':dd': {\n",
        "                            'N': '20210915',\n",
        "                        },\n",
        "                    },\n",
        "                    FilterExpression='#d < :dd',\n",
        "                    ProjectionExpression='#t, #u, #d',\n",
        "                )\n",
        "            else: \n",
        "                response = client.scan(\n",
        "                    TableName=table_name,\n",
        "                    ExpressionAttributeNames={\n",
        "                        '#t': 'tkr',\n",
        "                        '#u': 'uuid',\n",
        "                        '#d': 'date',\n",
        "                    },\n",
        "                    ExpressionAttributeValues={\n",
        "                        ':dd': {\n",
        "                            'N': '20210915',\n",
        "                        },\n",
        "                    },\n",
        "                    FilterExpression='#d < :dd',\n",
        "                    ProjectionExpression='#t, #u, #d',\n",
        "                    )\n",
        "            last_evaluated_key = response.get('LastEvaluatedKey')\n",
        "            \n",
        "            results.extend(response['Items'])\n",
        "            \n",
        "            if not last_evaluated_key:\n",
        "                break\n",
        "        except:\n",
        "            print('aww shit')\n",
        "    \n",
        "    cleaned = []\n",
        "    for data in results:\n",
        "        cleaned.append(\n",
        "            {\n",
        "                \"DeleteRequest\": {\n",
        "                    \"Key\": {\n",
        "                        \"uuid\": data[\"uuid\"]\n",
        "                    }\n",
        "                }\n",
        "            }\n",
        "            ) \n",
        "    \n",
        "    # batch delete\n",
        "    def delete(results):\n",
        "        strCleanList = [ [] for _ in range((len(results) - 1) // 25 + 1) ]\n",
        "        unprocList = []\n",
        "        for i, data in enumerate(results):\n",
        "            strCleanList[i // 25].append(data)\n",
        "        for batch in strCleanList:\n",
        "            try: \n",
        "                response = client.batch_write_item(\n",
        "                    RequestItems= {\n",
        "                        'ticker_meta': batch\n",
        "                    }\n",
        "                )\n",
        "                if bool(response['UnprocessedItems']):\n",
        "                    print(response)\n",
        "                    unprocList.extend(response['UnprocessedItems']['ticker_meta'])\n",
        "            except Exception as e:\n",
        "                print(batch[0])\n",
        "                print(e)\n",
        "        if len(unprocList) > 0:\n",
        "            print(str(len(unprocList)) + ' unprocessed items.')\n",
        "            delete(unprocList)\n",
        "    \n",
        "    print('Start deletion.')\n",
        "    delete(cleaned)\n",
        "    return"
      ],
      "execution_count": null,
      "outputs": []
    }
  ]
}